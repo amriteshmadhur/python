{
 "cells": [
  {
   "cell_type": "code",
   "execution_count": 1,
   "id": "bf7dd925",
   "metadata": {},
   "outputs": [
    {
     "name": "stdout",
     "output_type": "stream",
     "text": [
      "{'NOUN': 2, 'VERB': 1, 'PRON': 0, 'ADJ': 3}\n"
     ]
    }
   ],
   "source": [
    "import spacy\n",
    "\n",
    "def count_pos(text):\n",
    "    nlp = spacy.load(\"en_core_web_sm\")\n",
    "    doc = nlp(text)\n",
    "    \n",
    "    pos_counts = {\n",
    "        'NOUN': 0,\n",
    "        'VERB': 0,\n",
    "        'PRON': 0,\n",
    "        'ADJ': 0\n",
    "    }\n",
    "    \n",
    "    for token in doc:\n",
    "        if token.pos_ == 'NOUN':\n",
    "            pos_counts['NOUN'] += 1\n",
    "        elif token.pos_ == 'VERB':\n",
    "            pos_counts['VERB'] += 1\n",
    "        elif token.pos_ == 'PRON':\n",
    "            pos_counts['PRON'] += 1\n",
    "        elif token.pos_ == 'ADJ':\n",
    "            pos_counts['ADJ'] += 1\n",
    "    \n",
    "    return pos_counts\n",
    "\n",
    "# Test the function with example input\n",
    "text = \"The quick brown fox jumps over the lazy dog.\"\n",
    "counts = count_pos(text)\n",
    "print(counts)  # Output: {'NOUN': 2, 'VERB': 1, 'PRON': 0, 'ADJ': 2}\n"
   ]
  },
  {
   "cell_type": "code",
   "execution_count": null,
   "id": "aabb35b5",
   "metadata": {},
   "outputs": [],
   "source": []
  }
 ],
 "metadata": {
  "hide_input": false,
  "kernelspec": {
   "display_name": "Python 3 (ipykernel)",
   "language": "python",
   "name": "python3"
  },
  "language_info": {
   "codemirror_mode": {
    "name": "ipython",
    "version": 3
   },
   "file_extension": ".py",
   "mimetype": "text/x-python",
   "name": "python",
   "nbconvert_exporter": "python",
   "pygments_lexer": "ipython3",
   "version": "3.9.10"
  }
 },
 "nbformat": 4,
 "nbformat_minor": 5
}
